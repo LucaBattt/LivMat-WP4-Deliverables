{
 "cells": [
  {
   "cell_type": "markdown",
   "metadata": {},
   "source": [
    "# Encoding genes into a binary vector"
   ]
  },
  {
   "cell_type": "code",
   "execution_count": 1,
   "metadata": {},
   "outputs": [],
   "source": [
    "import pandas as pd\n",
    "import numpy as np\n",
    "import matplotlib.pyplot as plt\n",
    "from sklearn.preprocessing import MultiLabelBinarizer\n",
    "import pickle"
   ]
  },
  {
   "cell_type": "markdown",
   "metadata": {},
   "source": [
    "## Encoding functions definition"
   ]
  },
  {
   "cell_type": "code",
   "execution_count": 2,
   "metadata": {},
   "outputs": [],
   "source": [
    "def one_hot_encode(vectors):\n",
    "    '''\n",
    "    Converts array of categorical values to one-hot encoded arrays\n",
    "\n",
    "    !!Automatically detects all unique categories across all input arrays!!\n",
    "\n",
    "    Parameters:\n",
    "    - arrays: List of numpy arrays containing categorical features\n",
    "\n",
    "    Returns:\n",
    "    - List of one-hot encoded arrays\n",
    "    '''\n",
    "    # Get and sort all of the unique values\n",
    "    values = np.unique(np.concatenate([np.unique(vec) for vec in vectors]))\n",
    "    # Map the positions to the categories\n",
    "    values_mapping = {value: idx for idx, value in enumerate(values)}\n",
    "    mlb = MultiLabelBinarizer(classes = values)\n",
    "\n",
    "    results = []\n",
    "    for vec in vectors:\n",
    "        vec_as_list = [[item] for item in vec]\n",
    "        encoded = mlb.fit_transform(vec_as_list)\n",
    "        results.append(encoded.sum(axis=0).tolist())\n",
    "\n",
    "    # Convert to numpy arrays\n",
    "    for i in range(len(results)):\n",
    "        results[i] = np.array(results[i], dtype=int)\n",
    "\n",
    "    return (results if len(results)>1 else results[0]), values\n",
    "\n",
    "def plot_encoded_vector(encoded_vector, categories=None, figsize=(10, 1)):\n",
    "    '''\n",
    "    Plot a one-hot encoded vector as black/white squares.\n",
    "\n",
    "    Parameters:\n",
    "    - encoded_vector: List of binary values (e.g., [1,0,1,1])\n",
    "    - categories: List of labels\n",
    "    '''\n",
    "    data = encoded_vector.reshape(1, -1)\n",
    "\n",
    "    fig, ax = plt.subplots(figsize=figsize)\n",
    "\n",
    "    ax.imshow(data, cmap=plt.cm.binary_r, aspect='auto')\n",
    "    ax.set_yticks([])\n",
    "\n",
    "    # Add labels if provided\n",
    "    if categories is not None:\n",
    "        ax.set_xticks(np.arange(len(encoded_vector)))\n",
    "        ax.set_xticklabels(categories, rotation=45, ha='right')\n",
    "    else:\n",
    "        ax.set_xticks([])\n",
    "    \n",
    "    #  Add grid lines between squares\n",
    "    ax.set_xticks(np.arange(-0.5, len(encoded_vector), 1), minor=True)\n",
    "    ax.set_yticks([-0.5, 0.5], minor=True)\n",
    "    ax.grid(which='minor', color='black', linestyle='-', linewidth=1)\n",
    "    \n",
    "    plt.tight_layout()\n",
    "    plt.show()"
   ]
  },
  {
   "cell_type": "markdown",
   "metadata": {},
   "source": [
    "Here we code a very simple example of a 3 species community. This example is just an ilustration to show how the `onde_hot_encode()` function works."
   ]
  },
  {
   "cell_type": "code",
   "execution_count": 3,
   "metadata": {},
   "outputs": [
    {
     "name": "stdout",
     "output_type": "stream",
     "text": [
      "Species genes/pathways\n",
      "x:['a' 'g' 'd']\n",
      "y:['c' 'a']\n",
      "z:['s' 'd' 'g' 'q']\n",
      "\n",
      "Labels: ['a' 'c' 'd' 'g' 'q' 's']\n",
      "\n",
      "GR/MR of the species\n",
      "x_enc: [1 0 1 1 0 0]\n",
      "y_enc: [1 1 0 0 0 0]\n",
      "z_enc: [0 0 1 1 1 1]\n"
     ]
    }
   ],
   "source": [
    "# Example for understanding the one_hot_encode function\n",
    "\n",
    "x = np.array(['a','g','d'])     # Species 1 genes/pathways\n",
    "y = np.array(['c','a'])         # Species 2 genes/pathways\n",
    "z = np.array(['s','d','g','q']) # Species 3 genes/pathways\n",
    "\n",
    "encoded, mapping = one_hot_encode([x,y,z]) # Encoding function\n",
    "\n",
    "print('Species genes/pathways')\n",
    "print(f\"x:{x}\")\n",
    "print(f\"y:{y}\")\n",
    "print(f\"z:{z}\\n\")\n",
    "print(f\"Labels: {mapping}\\n\")\n",
    "print(\"GR/MR of the species\")\n",
    "print(f\"x_enc: {encoded[0]}\")\n",
    "print(f\"y_enc: {encoded[1]}\")\n",
    "print(f\"z_enc: {encoded[2]}\")"
   ]
  },
  {
   "cell_type": "markdown",
   "metadata": {},
   "source": [
    "## MR example\n",
    "The following cells demonstrates the construction of Metabolic Representation (MR) vectors for three bacterial strains:\n",
    "*   _G. hermandii_ PCC6308\n",
    "*   _P. taiwanensis_ DSM21245\n",
    "*   _E. coli_ MG1655\n",
    "\n",
    "We apply the `one_hot_encode()` function to metabolic pathway lists extracted from BioCyc (saved as `.txt` files). The output is a binary matrix where each row is the MR vector for a strain, indicating the presence or absence of every pathway found across the dataset."
   ]
  },
  {
   "cell_type": "code",
   "execution_count": 4,
   "metadata": {},
   "outputs": [],
   "source": [
    "# Import data from CyanoCyc (Methabolic Representation)\n",
    "synPCC6308_path_df = pd.read_csv(\"All-pathways-of-G.-herdmanii-PCC-6308.txt\")\n",
    "psDSM21245_path_df = pd.read_csv(\"All-pathways-of-P.-taiwanensis-DSM-21245.txt\")\n",
    "ecoliK12_path_df = pd.read_csv(\"All-pathways-of-E.-coli-K-12-substr.-MG1655.txt\")"
   ]
  },
  {
   "cell_type": "code",
   "execution_count": null,
   "metadata": {},
   "outputs": [],
   "source": [
    "# Applied to the pathways in bacterias\n",
    "encoded_bact, pathways = one_hot_encode([synPCC6308_path_df.to_numpy().reshape(-1,),\n",
    "                                         psDSM21245_path_df.to_numpy().reshape(-1,),\n",
    "                                         ecoliK12_path_df.to_numpy().reshape(-1,)])\n",
    "encoded_bac_np = np.array(encoded_bact)"
   ]
  },
  {
   "cell_type": "code",
   "execution_count": 13,
   "metadata": {},
   "outputs": [
    {
     "name": "stdout",
     "output_type": "stream",
     "text": [
      "The encoded matrix of the community has 3 rows (species) and 639 columns (pathways)\n"
     ]
    }
   ],
   "source": [
    "print(f\"The encoded matrix of the community has {encoded_bac_np.shape[0]} rows (species) and {encoded_bac_np.shape[1]} columns (pathways)\")"
   ]
  },
  {
   "cell_type": "code",
   "execution_count": null,
   "metadata": {},
   "outputs": [
    {
     "name": "stdout",
     "output_type": "stream",
     "text": [
      "Display of a slice of the MR of G. hermandii PCC6308\n"
     ]
    },
    {
     "data": {
      "image/png": "[encoded data removed]",
      "text/plain": [
       "<Figure size 1600x200 with 1 Axes>"
      ]
     },
     "metadata": {},
     "output_type": "display_data"
    }
   ],
   "source": [
    "print(\"Display of a slice of the MR of G. hermandii PCC6308:\")\n",
    "plt.matshow(encoded_bact[0].reshape(1,-1)[:,100:200], cmap='gray')\n",
    "plt.xticks([])\n",
    "plt.yticks([])\n",
    "plt.show()"
   ]
  },
  {
   "cell_type": "code",
   "execution_count": 15,
   "metadata": {},
   "outputs": [
    {
     "name": "stdout",
     "output_type": "stream",
     "text": [
      "Display of a slice of the whole MR matrix of all the digitalized bacteria:\n"
     ]
    },
    {
     "data": {
      "image/png": "[encoded data removed]",
      "text/plain": [
       "<Figure size 1600x200 with 1 Axes>"
      ]
     },
     "metadata": {},
     "output_type": "display_data"
    }
   ],
   "source": [
    "print(\"Display of a slice of the whole MR matrix of all the digitalized bacteria:\")\n",
    "\n",
    "plt.matshow(encoded_bac_np[:,100:200], cmap='gray')\n",
    "\n",
    "plt.xticks([])\n",
    "plt.yticks([])\n",
    "plt.show()"
   ]
  }
 ],
 "metadata": {
  "kernelspec": {
   "display_name": "enviro_1 (3.12.3)",
   "language": "python",
   "name": "python3"
  },
  "language_info": {
   "codemirror_mode": {
    "name": "ipython",
    "version": 3
   },
   "file_extension": ".py",
   "mimetype": "text/x-python",
   "name": "python",
   "nbconvert_exporter": "python",
   "pygments_lexer": "ipython3",
   "version": "3.12.3"
  }
 },
 "nbformat": 4,
 "nbformat_minor": 2
}
